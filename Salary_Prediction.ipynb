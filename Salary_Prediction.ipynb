{
  "nbformat": 4,
  "nbformat_minor": 0,
  "metadata": {
    "colab": {
      "provenance": [],
      "authorship_tag": "ABX9TyPdrnA9YLlCwO0H4hmrdlF4",
      "include_colab_link": true
    },
    "kernelspec": {
      "name": "python3",
      "display_name": "Python 3"
    },
    "language_info": {
      "name": "python"
    }
  },
  "cells": [
    {
      "cell_type": "markdown",
      "metadata": {
        "id": "view-in-github",
        "colab_type": "text"
      },
      "source": [
        "<a href=\"https://colab.research.google.com/github/Jyothika-12/Pulse-Detection-Using-OpenCV/blob/main/Salary_Prediction.ipynb\" target=\"_parent\"><img src=\"https://colab.research.google.com/assets/colab-badge.svg\" alt=\"Open In Colab\"/></a>"
      ]
    },
    {
      "cell_type": "code",
      "execution_count": null,
      "metadata": {
        "colab": {
          "base_uri": "https://localhost:8080/"
        },
        "id": "bI-Qn7vyP0jD",
        "outputId": "b9206a47-ef1b-480a-8c3d-02d518c2b359"
      },
      "outputs": [
        {
          "output_type": "stream",
          "name": "stdout",
          "text": [
            "Predicted Salary: $94,268.30\n"
          ]
        },
        {
          "output_type": "stream",
          "name": "stderr",
          "text": [
            "/usr/local/lib/python3.12/dist-packages/sklearn/preprocessing/_encoders.py:246: UserWarning: Found unknown categories in columns [0] during transform. These unknown categories will be encoded as all zeros\n",
            "  warnings.warn(\n"
          ]
        }
      ],
      "source": [
        "import pandas as pd\n",
        "from sklearn.model_selection import train_test_split\n",
        "from sklearn.linear_model import LinearRegression\n",
        "from sklearn.preprocessing import OneHotEncoder\n",
        "from sklearn.compose import ColumnTransformer\n",
        "from sklearn.pipeline import Pipeline\n",
        "from sklearn.impute import SimpleImputer\n",
        "\n",
        "# Load dataset\n",
        "df = pd.read_csv(\"Salary Data.csv\")\n",
        "\n",
        "# Remove Gender (not needed)\n",
        "df = df.drop(columns=[\"Gender\"])\n",
        "\n",
        "# Drop rows where Salary is missing\n",
        "df = df.dropna(subset=[\"Salary\"])\n",
        "\n",
        "# Add placeholder Skills column if missing\n",
        "if \"Skills\" not in df.columns:\n",
        "    df[\"Skills\"] = \"General\"\n",
        "\n",
        "# Features and target\n",
        "X = df[[\"Years of Experience\", \"Age\", \"Skills\", \"Education Level\", \"Job Title\"]]\n",
        "y = df[\"Salary\"]\n",
        "\n",
        "# Categorical and numerical columns\n",
        "categorical_cols = [\"Skills\", \"Education Level\", \"Job Title\"]\n",
        "numerical_cols = [\"Years of Experience\", \"Age\"]\n",
        "\n",
        "# Preprocessor with imputation and encoding\n",
        "preprocessor = ColumnTransformer(\n",
        "    transformers=[\n",
        "        (\"cat\", Pipeline(steps=[\n",
        "            (\"imputer\", SimpleImputer(strategy=\"most_frequent\")),\n",
        "            (\"encoder\", OneHotEncoder(drop=\"first\", handle_unknown=\"ignore\"))\n",
        "        ]), categorical_cols),\n",
        "        (\"num\", Pipeline(steps=[\n",
        "            (\"imputer\", SimpleImputer(strategy=\"mean\"))\n",
        "        ]), numerical_cols)\n",
        "    ]\n",
        ")\n",
        "\n",
        "# Build pipeline\n",
        "model = Pipeline(steps=[\n",
        "    (\"preprocessor\", preprocessor),\n",
        "    (\"regressor\", LinearRegression())\n",
        "])\n",
        "\n",
        "# Train-test split\n",
        "X_train, X_test, y_train, y_test = train_test_split(X, y, test_size=0.2, random_state=42)\n",
        "\n",
        "# Train model\n",
        "model.fit(X_train, y_train)\n",
        "\n",
        "# Salary prediction function\n",
        "def predict_salary(years_experience, age, skills, education, job_title):\n",
        "    sample = pd.DataFrame({\n",
        "        \"Years of Experience\": [years_experience],\n",
        "        \"Age\": [age],\n",
        "        \"Skills\": [skills],\n",
        "        \"Education Level\": [education],\n",
        "        \"Job Title\": [job_title]\n",
        "    })\n",
        "    return model.predict(sample)[0]\n",
        "\n",
        "# Example usage\n",
        "predicted = predict_salary(7, 35, \"Python, Machine Learning\", \"Master's\", \"Data Scientist\")\n",
        "print(f\"Predicted Salary: ${predicted:,.2f}\")"
      ]
    }
  ]
}